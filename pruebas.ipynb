{
 "cells": [
  {
   "cell_type": "markdown",
   "metadata": {},
   "source": [
    "# Back-End tabla real (Estado resultados)"
   ]
  },
  {
   "cell_type": "code",
   "execution_count": 1,
   "metadata": {},
   "outputs": [
    {
     "name": "stdout",
     "output_type": "stream",
     "text": [
      "['C:\\\\Users\\\\bi\\\\AppData\\\\Local\\\\Programs\\\\Python\\\\Python312\\\\python312.zip', 'C:\\\\Users\\\\bi\\\\AppData\\\\Local\\\\Programs\\\\Python\\\\Python312\\\\DLLs', 'C:\\\\Users\\\\bi\\\\AppData\\\\Local\\\\Programs\\\\Python\\\\Python312\\\\Lib', 'C:\\\\Users\\\\bi\\\\AppData\\\\Local\\\\Programs\\\\Python\\\\Python312', 'd:\\\\Proyectos\\\\KIA Financiero\\\\venv', '', 'd:\\\\Proyectos\\\\KIA Financiero\\\\venv\\\\Lib\\\\site-packages', 'd:\\\\Proyectos\\\\KIA Financiero\\\\venv\\\\Lib\\\\site-packages\\\\win32', 'd:\\\\Proyectos\\\\KIA Financiero\\\\venv\\\\Lib\\\\site-packages\\\\win32\\\\lib', 'd:\\\\Proyectos\\\\KIA Financiero\\\\venv\\\\Lib\\\\site-packages\\\\Pythonwin', 'd:\\\\Proyectos\\\\KIA Financiero\\\\services']\n"
     ]
    }
   ],
   "source": [
    "# importacion recursos\n",
    "import pandas as pd\n",
    "import numpy as np\n",
    "from services.ETL.transforms import Transfomrs\n",
    "from services.ETL.load import LoadData\n",
    "from config.parametrizaciones import Presupuesto as PR   \n",
    "from config.parametrizaciones import Real as RL\n",
    "from config.parametrizaciones import Archivos as AR\n",
    "from config.parametrizaciones import Models as MD"
   ]
  },
  {
   "cell_type": "markdown",
   "metadata": {},
   "source": [
    "### Bloque de ventas"
   ]
  },
  {
   "cell_type": "code",
   "execution_count": 2,
   "metadata": {},
   "outputs": [],
   "source": [
    "# Bloque ventas\n",
    "ventas = Transfomrs(file_type='excel',header=0,name_file=AR.a_real,path=RL.r_real,sheet_name='q13-6-2-balance-ecuador')\n",
    "# Aplicacion filtro de ventas\n",
    "ventas_vehiculos = [\n",
    "    {'column_name': 'ETQ_VEHICULOS', 'operator': '==', 'value': 'Ventas vehiculos nuevos'},\n",
    "    {'column_name': 'INFO_GASTO', 'operator': '!=', 'value': 'OTROS INGRESOS'},\n",
    "    {'column_name': 'DEP_GRUPO1', 'operator': 'in', 'value': ['RETAIL','WHOLE']},\n",
    "    {'column_name': 'DEP_GRUPO2', 'operator': 'in', 'value': [\"ADMINISTRATIVO\",\"FLOTAS\",\"TAXIS\",\"VEHICULOS\",\"RENTING\"]}\n",
    "]\n",
    "venta_repuestos = [\n",
    "    {'column_name': 'ETQ_REPUESTOS', 'operator': '==', 'value': 'Ventas repuestos'},\n",
    "    {'column_name': 'INFO_GASTO', 'operator': '!=', 'value': 'OTROS INGRESOS'},\n",
    "    {'column_name': 'DEP_GRUPO1', 'operator': 'in', 'value': [\"RETAIL\",\"WHOLE\"]},\n",
    "    {'column_name': 'DEP_GRUPO2', 'operator': '==', 'value': 'REPUESTOS'}\n",
    "]\n",
    "venta_talleres= [\n",
    "    {'column_name': 'ETQ_TALLERES', 'operator': 'in', 'value': ['Ventas Talleres','Ventas talleres']},\n",
    "    {'column_name': 'INFO_GASTO', 'operator': '!=', 'value': 'OTROS INGRESOS'},\n",
    "    {'column_name': 'DEP_GRUPO1', 'operator': '==', 'value': 'RETAIL'},\n",
    "    {'column_name': 'DEP_GRUPO2', 'operator': '==', 'value': 'TALLER'}   \n",
    "]\n",
    "ventas_vehiculos_usados = [\n",
    "    {'column_name': 'ETQ_USADOS', 'operator': '==', 'value': 'Ventas vehiculos usados'},\n",
    "    {'column_name': 'INFO_GASTO', 'operator': '!=', 'value': 'OTROS INGRESOS'},\n",
    "    {'column_name': 'DEP_GRUPO1', 'operator': '==', 'value': 'RETAIL'},\n",
    "    {'column_name': 'DEP_GRUPO2', 'operator': 'in', 'value': [\"ADMINISTRATIVO USAD\",\"VEHICULOS USAD\"]}\n",
    "]\n",
    "# Definicion de generarquia en ventas\n",
    "Lista_etiquetas_nivel0_ventas = [\n",
    "    (ventas_vehiculos,'Nivel1','Ventas Vehiculos Nuevos','Nivel0','Ventas'),\n",
    "    (venta_repuestos,'Nivel1','Ventas Repuestos','Nivel0','Ventas'),\n",
    "    (venta_talleres,'Nivel1','Ventas Talleres','Nivel0','Ventas'),\n",
    "    (ventas_vehiculos_usados,'Nivel1','Ventas Vehiculos Usados','Nivel0','Ventas')\n",
    "]\n",
    "ventas.aplicar_etiquetas(Lista_etiquetas_nivel0_ventas)\n",
    "# ventas.int_format('MOV_MES')\n",
    "# save = r'C:\\Users\\bi\\OneDrive - Autocom S.A\\Descargar\\prueba_ventas.txt'\n",
    "# ventas.df.to_csv(save,encoding='utf-8',sep='|',index=False)"
   ]
  },
  {
   "cell_type": "markdown",
   "metadata": {},
   "source": [
    "### Bloque de costos"
   ]
  },
  {
   "cell_type": "code",
   "execution_count": 3,
   "metadata": {},
   "outputs": [],
   "source": [
    "# Bloque de costos\n",
    "costos = Transfomrs(file_type='excel',header=0,name_file=AR.a_real,path=RL.r_real,sheet_name='q13-6-2-balance-ecuador')\n",
    "costo_vehiculos = [\n",
    "    {'column_name': 'ETQ_VEHICULOS', 'operator': '==', 'value': 'Costo vehiculos nuevos'},\n",
    "    {'column_name': 'INFO_GASTO', 'operator': '!=', 'value': 'OTROS INGRESOS'},\n",
    "    {'column_name': 'DEP_GRUPO1', 'operator': 'in', 'value': ['RETAIL','WHOLE']},\n",
    "    {'column_name': 'DEP_GRUPO2', 'operator': 'in', 'value': [\"ADMINISTRATIVO\",\"FLOTAS\",\"TAXIS\",\"VEHICULOS\",\"RENTING\"]}\n",
    "]\n",
    "costo_repuestos = [\n",
    "    {'column_name': 'ETQ_REPUESTOS', 'operator': '==', 'value': 'Costo repuestos'},\n",
    "    {'column_name': 'INFO_GASTO', 'operator': '!=', 'value': 'OTROS INGRESOS'},\n",
    "    {'column_name': 'DEP_GRUPO1', 'operator': 'in', 'value': [\"RETAIL\",\"WHOLE\"]},\n",
    "    {'column_name': 'DEP_GRUPO2', 'operator': '==', 'value': 'REPUESTOS'}\n",
    "]\n",
    "costo_talleres= [\n",
    "    {'column_name': 'ETQ_TALLERES', 'operator': '==', 'value': 'Costo talleres'},\n",
    "    {'column_name': 'INFO_GASTO', 'operator': '!=', 'value': 'OTROS INGRESOS'},\n",
    "    {'column_name': 'DEP_GRUPO1', 'operator': '==', 'value': 'RETAIL'},\n",
    "    {'column_name': 'DEP_GRUPO2', 'operator': '==', 'value': 'TALLER'}   \n",
    "]\n",
    "costo_vehiculos_usados = [\n",
    "    {'column_name': 'ETQ_USADOS', 'operator': '==', 'value': 'Costo usados'},\n",
    "    {'column_name': 'INFO_GASTO', 'operator': '!=', 'value': 'OTROS INGRESOS'},\n",
    "    {'column_name': 'DEP_GRUPO1', 'operator': '==', 'value': 'RETAIL'},\n",
    "    {'column_name': 'DEP_GRUPO2', 'operator': 'in', 'value': [\"ADMINISTRATIVO USAD\",\"VEHICULOS USAD\"]}\n",
    "]\n",
    "costo_inmobiliaria = [\n",
    "    {'column_name': 'ETQ_INMOBILIARIA', 'operator': '==', 'value': 'Costo inmobiliaria'},\n",
    "    {'column_name': 'DEP_GRUPO1', 'operator': '==', 'value': 'INMOBILIARIA'},\n",
    "    {'column_name': 'DEP_GRUPO2', 'operator': '==', 'value': 'INMOBILIARIA'}\n",
    "]\n",
    "# Definicion de generarquia en costos\n",
    "Lista_etiquetas_nivel0_costos = [\n",
    "    (costo_vehiculos,'Nivel1','Costo vehiculos','Nivel0','(-) Costo de Ventas'),\n",
    "    (costo_repuestos,'Nivel1','Costo repuestos','Nivel0','(-) Costo de Ventas'),\n",
    "    (costo_talleres,'Nivel1','Costo talleres','Nivel0','(-) Costo de Ventas'),\n",
    "    (costo_vehiculos_usados,'Nivel1','Costo usados','Nivel0','(-) Costo de Ventas')\n",
    "]\n",
    "costos.aplicar_etiquetas(Lista_etiquetas_nivel0_costos)"
   ]
  },
  {
   "cell_type": "markdown",
   "metadata": {},
   "source": [
    "### Bloque Gastos Operativos de Locales Comerciales "
   ]
  },
  {
   "cell_type": "code",
   "execution_count": 4,
   "metadata": {},
   "outputs": [],
   "source": [
    "bloque_gastos = Transfomrs(file_type='excel',header=0,name_file=AR.a_real,path=RL.r_real,sheet_name='q13-6-2-balance-ecuador')\n",
    "lista_gastos_etiquetas_gastos = [\n",
    "    'GASTOS DE ADMINISTRACION',\n",
    "    'GASTOS DE ADMINISTRACION PERSONAL',\n",
    "    'GASTOS DE DISTRIBUCION Y VENTAS',\n",
    "    'GASTOS DE DISTRIBUCION Y VENTAS PERSONAL',\n",
    "    'GASTOS DE DISTRIBUCION Y VENTAS PUBLICIDAD',\n",
    "    'OTROS GASTOS'\n",
    "]\n",
    "filtro_gastos = bloque_gastos.validacion_cruzada(nombre_columna='ETIQUETA_IFRS',lista_validacion=lista_gastos_etiquetas_gastos,presentes=True)\n",
    "\n",
    "gastos_operativos_df = filtro_gastos.copy().reset_index()\n",
    "gastos_personal_df = filtro_gastos.copy().reset_index()\n",
    "gastos_administrativos_df = filtro_gastos.copy().reset_index()"
   ]
  },
  {
   "cell_type": "markdown",
   "metadata": {},
   "source": [
    "### Bloque General de datos"
   ]
  },
  {
   "cell_type": "code",
   "execution_count": 5,
   "metadata": {},
   "outputs": [],
   "source": [
    "# Bloque Gastos Operativos de Locales Comerciales \n",
    "gastos_operativos = Transfomrs(datos=gastos_operativos_df,file_type='DataFrame',path=None)\n",
    "# Gastos Operativos de Locales Comercial \n",
    "AmortizacionesDepreciaciones = [\n",
    "    {'column_name': 'DET_ECUA', 'operator': '==', 'value': 'Amortizaciones/Depreciaciones'}\n",
    "]\n",
    "arriendos = [\n",
    "    {'column_name': 'DET_ECUA', 'operator': '==', 'value': 'Arriendos'}\n",
    "]\n",
    "# Contribuciones, impuestos, tasas\n",
    "Contribuciones_impuestos_tasas = [\n",
    "    {'column_name': 'DET_ECUA', 'operator': '==', 'value': 'Contribuciones, impuestos, tasas'}\n",
    "]\n",
    "seguros = [\n",
    "    {'column_name': 'DET_ECUA', 'operator': '==', 'value': 'Seguros'}\n",
    "]\n",
    "# Definicion de generarquia en gastos operativos locativos\n",
    "Lista_etiquetas_nivel0_operativos_locativos = [\n",
    "    (AmortizacionesDepreciaciones,'Nivel1','Amortizaciones/Depreciaciones','Nivel0','Gastos Operativos de Locales Comerciales'),\n",
    "    (arriendos,'Nivel1','Arriendos','Nivel0','Gastos Operativos de Locales Comerciales'),\n",
    "    (Contribuciones_impuestos_tasas,'Nivel1','Contribuciones, impuestos, tasas','Nivel0','Gastos Operativos de Locales Comerciales'),\n",
    "    (seguros,'Nivel1','Seguros','Nivel0','Gastos Operativos de Locales Comerciales')\n",
    "]\n",
    "gastos_operativos.aplicar_etiquetas(Lista_etiquetas_nivel0_operativos_locativos)"
   ]
  },
  {
   "cell_type": "markdown",
   "metadata": {},
   "source": [
    "### Bloque  Gastos Administrativos & Ventas (Fijos)"
   ]
  },
  {
   "cell_type": "code",
   "execution_count": 6,
   "metadata": {},
   "outputs": [],
   "source": [
    "# Bloque  Gastos Administrativos & Ventas (Fijos)\n",
    "gastos_personal = Transfomrs(datos=gastos_personal_df,file_type='DataFrame',path=None)\n",
    "# Gastos Administrativos & Ventas (Fijos)\n",
    "Gastos__en_personal = [\n",
    "    {'column_name': 'DET_ECUA', 'operator': '==', 'value': 'Gastos de personal'}\n",
    "]\n",
    "mantenimiento_activos = [\n",
    "    {'column_name': 'DET_ECUA', 'operator': '==', 'value': 'Mantenimiento de activos'}\n",
    "]\n",
    "gastos_oficinas_locales = [\n",
    "    {'column_name': 'DET_ECUA', 'operator': '==', 'value': 'Gastos en locales y oficinas'}\n",
    "]\n",
    "honorario_profesionales = [\n",
    "    {'column_name': 'DET_ECUA', 'operator': 'in', 'value': ['Honorarios Profesionales, tasas','Honorarios profesionales']}\n",
    "]\n",
    "otros_gastos_funcinamiento = [ \n",
    "    {'column_name': 'DET_ECUA', 'operator': '==', 'value': 'Otros gastos de funcionamiento'}\n",
    "]\n",
    "# Definicion de generarquia en gastos administrativos y de ventas\n",
    "Lista_etiquetas_nivel0_administrativos_ventas = [\n",
    "    (Gastos__en_personal,'Nivel1','Gastos de Personal','Nivel0','Gastos Administrativos & Ventas (Fijos)'),\n",
    "    (mantenimiento_activos,'Nivel1','Mantenimiento de Activos','Nivel0','Gastos Administrativos & Ventas (Fijos)'),\n",
    "    (gastos_oficinas_locales,'Nivel1','Gastos en Locales y Oficinas','Nivel0','Gastos Administrativos & Ventas (Fijos)'),\n",
    "    (honorario_profesionales,'Nivel1','Honorarios Profesionales','Nivel0','Gastos Administrativos & Ventas (Fijos)'),\n",
    "    (otros_gastos_funcinamiento,'Nivel1','Otros Gastos de Funcionamiento','Nivel0','Gastos Administrativos & Ventas (Fijos)')\n",
    "]\n",
    "gastos_personal.aplicar_etiquetas(Lista_etiquetas_nivel0_administrativos_ventas)"
   ]
  },
  {
   "cell_type": "markdown",
   "metadata": {},
   "source": [
    "### Bloque Gastos Administrativos & Ventas (Variables)"
   ]
  },
  {
   "cell_type": "code",
   "execution_count": 7,
   "metadata": {},
   "outputs": [],
   "source": [
    "# Bloque Gastos Administrativos & Ventas (Variables)\n",
    "gastos_administrativos = Transfomrs(datos=gastos_administrativos_df,file_type='DataFrame',path=None)\n",
    "# Filtro de Gastos Administrativos & Ventas (Variables)\n",
    "comisiones_insentivos = [\n",
    "    {'column_name': 'DET_ECUA', 'operator': '==', 'value': 'Comisiones e incentivos'}\n",
    "]\n",
    "publicidad = [\n",
    "    {'column_name': 'DET_ECUA', 'operator': '==', 'value': 'Publicidad'}\n",
    "]\n",
    "nuevos_proyectos = [\n",
    "    {'column_name': 'DET_ECUA', 'operator': '==', 'value': 'Nuevos Proyectos'}\n",
    "]\n",
    "comisiones_personal = [\n",
    "    {'column_name': 'DET_ECUA', 'operator': '==', 'value': 'Comisiones personal'}\n",
    "]\n",
    "cambio_imagen_corporativa = [\n",
    "    {'column_name': 'DET_ECUA', 'operator': '==', 'value': 'Cambio imagen corporativa'}\n",
    "]\n",
    "almacenamiento_mobilizacion_vehiculos = [\n",
    "    {'column_name': 'DET_ECUA', 'operator': '==', 'value': 'Almacenamiento y Movilización Vh'}\n",
    "]\n",
    "gastos_viaje = [\n",
    "    {'column_name': 'DET_ECUA', 'operator': '==', 'value': 'Gastos de viaje'}\n",
    "]\n",
    "otros_gastos_variables = [\n",
    "    {'column_name': 'DET_ECUA', 'operator': '==', 'value': 'Otros gastos variables'}\n",
    "]\n",
    "contingente_legales = [\n",
    "    {'column_name': 'DET_ECUA', 'operator': '==', 'value': 'Contingentes legales'}\n",
    "]\n",
    "Lista_etiquetas_nivel0_gastos_administrativos = [\n",
    "    (comisiones_insentivos,'Nivel1','Comisiones e Incentivos','Nivel0','Gastos Administrativos & Ventas (Variables)'),\n",
    "    (publicidad,'Nivel1','Publicidad','Nivel0','Gastos Administrativos & Ventas (Variables)'),\n",
    "    (nuevos_proyectos,'Nivel1','Nuevos Proyectos','Nivel0','Gastos Administrativos & Ventas (Variables)'),\n",
    "    (comisiones_personal,'Nivel1','Comisiones personal','Nivel0','Gastos Administrativos & Ventas (Variables)'),\n",
    "    (cambio_imagen_corporativa,'Nivel1','Cambio Imagen Corporativa','Nivel0','Gastos Administrativos & Ventas (Variables)'),\n",
    "    (almacenamiento_mobilizacion_vehiculos,'Nivel1','Almacenamiento y Movilizacion Vehiculos','Nivel0','Gastos Administrativos & Ventas (Variables)'),\n",
    "    (gastos_viaje,'Nivel1','Gastos de Viaje','Nivel0','Gastos Administrativos & Ventas (Variables)'),\n",
    "    (otros_gastos_variables,'Nivel1','Otros Gastos Variables','Nivel0','Gastos Administrativos & Ventas (Variables)'),\n",
    "    (contingente_legales,'Nivel1','Contingentes Legales','Nivel0','Gastos Administrativos & Ventas (Variables)')\n",
    "]\n",
    "gastos_administrativos.aplicar_etiquetas(Lista_etiquetas_nivel0_gastos_administrativos)"
   ]
  },
  {
   "cell_type": "markdown",
   "metadata": {},
   "source": [
    "### Bloque UTILIDAD (PERDIDA)  ANTES DE IMPUESTOS"
   ]
  },
  {
   "cell_type": "code",
   "execution_count": 8,
   "metadata": {},
   "outputs": [],
   "source": [
    "# Bloque UTILIDAD (PERDIDA)  ANTES DE IMPUESTOS\n",
    "utilidad_o_perdida = Transfomrs(file_type='excel',header=0,name_file=AR.a_real,path=RL.r_real,sheet_name='q13-6-2-balance-ecuador')\n",
    "# Filtros UTILIDAD (PERDIDA)  ANTES DE IMPUESTOS\n",
    "ingresos_financieros = [\n",
    "    {'column_name': 'DET_ECUA', 'operator': '==', 'value': 'Ingresos financieros'}\n",
    "]\n",
    "gastos_financieros = [\n",
    "    {'column_name': 'DET_ECUA', 'operator': '==', 'value': 'Gastos financieros'}\n",
    "]\n",
    "diferencia_cambio = [\n",
    "    {'column_name': 'DET_ECUA', 'operator': '==', 'value': 'Diferencia en cambio'}\n",
    "]\n",
    "otros_ingresos = [\n",
    "    {'column_name': 'DET_ECUA', 'operator': '==', 'value': 'Otros ingresos'}\n",
    "]\n",
    "otros_gastos = [\n",
    "    {'column_name': 'DET_ECUA', 'operator': '==', 'value': 'Otros Gastos'}\n",
    "]\n",
    "impuesto_renta = [\n",
    "    {'column_name': 'DET_ECUA', 'operator': 'in', 'value': ['Impuesto a la renta','Impuesto a la Renta','Impuesto a la Renta']}\n",
    "]\n",
    "lista_etiquetas_nivel0_utilidad_o_perdida = [\n",
    "    (ingresos_financieros,'Nivel1','Ingresos Financieros','Nivel0','0'),\n",
    "    (gastos_financieros,'Nivel1','Gastos Financieros','Nivel0','0'),\n",
    "    (diferencia_cambio,'Nivel1','Diferencia en Cambio','Nivel0','0'),\n",
    "    (otros_ingresos,'Nivel1','Otros Ingresos','Nivel0','0'),\n",
    "    (otros_gastos,'Nivel1','Otros Gastos','Nivel0','0'),\n",
    "    (impuesto_renta,'Nivel1','Impuesto a la Renta','Nivel0','Impuesto a la Renta')\n",
    "]\n",
    "utilidad_o_perdida.aplicar_etiquetas(lista_etiquetas_nivel0_utilidad_o_perdida)"
   ]
  },
  {
   "cell_type": "markdown",
   "metadata": {},
   "source": [
    "### Generacion de tabla estado de resultados"
   ]
  },
  {
   "cell_type": "code",
   "execution_count": 9,
   "metadata": {},
   "outputs": [],
   "source": [
    "Balance = [\n",
    "    ventas.df,\n",
    "    costos.df,\n",
    "    gastos_operativos.df,\n",
    "    gastos_personal.df,\n",
    "    gastos_administrativos.df,\n",
    "    utilidad_o_perdida.df\n",
    "]\n",
    "df = pd.concat(Balance,ignore_index=True)\n",
    "df_balance = Transfomrs(datos=df,path=None,file_type='DataFrame')\n",
    "df_balance.int_format(name_columns='MOV_MES')\n",
    "\n",
    "columnas_reporte = [\n",
    "    'PERIODO',\n",
    "    'ANO',\n",
    "    'Nivel0',\n",
    "    'Nivel1',\n",
    "    'INFO_GASTO',\n",
    "    'DESC_CTA',\n",
    "    'MOV_MES',\n",
    "    'DEP_GRUPO1',\n",
    "    'DEP_GRUPO2',\n",
    "    'DEP_DEPARTAMENTO',\n",
    "    'SEDE',\n",
    "    'ETQ_VEHICULOS',\n",
    "    'ETQ_REPUESTOS',\n",
    "    'ETQ_TALLERES',\n",
    "    'ETQ_USADOS',\n",
    "    'ETQ_INMOBILIARIA'\n",
    "]\n",
    "df_balance.columns_selection(columnas_reporte)\n",
    "df_balance.filtrar_valores_vacios(nombre_columna='Nivel0',no_vacio=False)\n",
    "rename_columns = {\n",
    "    'PERIODO':'Mes',\n",
    "    'ANO':'Anio',\n",
    "    'MOV_MES':'Valor',\n",
    "    'DEP_GRUPO1':'Negocio',\n",
    "    'DEP_GRUPO2':'Unidad Negocio',\n",
    "    'DEP_DEPARTAMENTO':'Centro Costo',\n",
    "    'SEDE':'Sede',\n",
    "    'ETQ_VEHICULOS':'Nuevos',\n",
    "    'ETQ_REPUESTOS':'Repuestos',\n",
    "    'ETQ_TALLERES':'Talleres',\n",
    "    'ETQ_USADOS':'Usados',\n",
    "    'ETQ_INMOBILIARIA':'Inmobiliaria'\n",
    "}\n",
    "df_balance.rename_columns(column_name_mapping=rename_columns)\n",
    "pass"
   ]
  },
  {
   "cell_type": "markdown",
   "metadata": {},
   "source": [
    "### Exportacion de la tabla a Share Point"
   ]
  },
  {
   "cell_type": "code",
   "execution_count": 10,
   "metadata": {},
   "outputs": [],
   "source": [
    "# Cargar el modelos a Share Point\n",
    "load = LoadData(datos=df_balance.df,full_path=MD.BI_share_Point)\n",
    "load.load_data(date_=False,type_file='plano',name_file='Real')"
   ]
  },
  {
   "cell_type": "code",
   "execution_count": 11,
   "metadata": {},
   "outputs": [
    {
     "data": {
      "text/plain": [
       "array(['Impuesto a la Renta'], dtype=object)"
      ]
     },
     "execution_count": 11,
     "metadata": {},
     "output_type": "execute_result"
    }
   ],
   "source": [
    "# Etiquetas Pendientes\n",
    "ruta = r'C:\\Users\\bi\\Autocom S.A\\Financiero KIA - Contenedor - Financiero KIA\\Modelo\\Estructura.xlsx'\n",
    "dim_etiquetas = pd.read_excel(ruta,sheet_name='dimEstadoResultadoIntegral',header=0)\n",
    "lista_etiquetas = dim_etiquetas['Nivel1'].unique()\n",
    "filtro = ~df_balance.df['Nivel1'].isin(lista_etiquetas)\n",
    "resultado = df_balance.df.loc[filtro]\n",
    "resultado['Nivel1'].unique()"
   ]
  }
 ],
 "metadata": {
  "kernelspec": {
   "display_name": "venv",
   "language": "python",
   "name": "python3"
  },
  "language_info": {
   "codemirror_mode": {
    "name": "ipython",
    "version": 3
   },
   "file_extension": ".py",
   "mimetype": "text/x-python",
   "name": "python",
   "nbconvert_exporter": "python",
   "pygments_lexer": "ipython3",
   "version": "3.12.1"
  }
 },
 "nbformat": 4,
 "nbformat_minor": 2
}
